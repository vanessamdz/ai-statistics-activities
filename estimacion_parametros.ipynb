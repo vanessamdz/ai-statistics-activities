{
  "nbformat": 4,
  "nbformat_minor": 0,
  "metadata": {
    "colab": {
      "provenance": []
    },
    "kernelspec": {
      "name": "python3",
      "display_name": "Python 3"
    },
    "language_info": {
      "name": "python"
    }
  },
  "cells": [
    {
      "cell_type": "markdown",
      "source": [
        "# **Estimación de parámetros**"
      ],
      "metadata": {
        "id": "-CTj_Ludlz6A"
      }
    },
    {
      "cell_type": "code",
      "execution_count": 2,
      "metadata": {
        "id": "fmmmR2QdZwXh"
      },
      "outputs": [],
      "source": [
        "import pandas as pd\n",
        "import numpy as np\n",
        "import matplotlib.pyplot as plt"
      ]
    },
    {
      "cell_type": "markdown",
      "source": [
        "## Problema 1\n",
        "Un fabricante de baterías electrónicas está interesado en la duración de las baterías antes de que necesiten ser reemplazadas. Para evaluar esto, el fabricante ha realizado un estudio en el que probó baterías en condiciones normales y registró el tiempo (en horas) hasta que cada batería se agotó."
      ],
      "metadata": {
        "id": "qJ5tD7ljkfTo"
      }
    },
    {
      "cell_type": "code",
      "source": [
        "bateries = pd.read_excel('/content/baterias(1).xlsx')"
      ],
      "metadata": {
        "id": "DNRte2aOc1km"
      },
      "execution_count": 3,
      "outputs": []
    },
    {
      "cell_type": "code",
      "source": [
        "bateries = pd.DataFrame(bateries)"
      ],
      "metadata": {
        "id": "PqVsRvP6tq4a"
      },
      "execution_count": 4,
      "outputs": []
    },
    {
      "cell_type": "code",
      "source": [
        "plt.hist(x = bateries['tiempo_hasta_agotar'], color='purple')\n",
        "plt.xlabel('Tiempo en agotar batería')\n",
        "plt.ylabel('Frecuencia')\n",
        "plt.title('Histograma de Tiempo')"
      ],
      "metadata": {
        "colab": {
          "base_uri": "https://localhost:8080/",
          "height": 490
        },
        "id": "06YUy5CUtVkC",
        "outputId": "1dfc22c4-df50-455c-bbad-3b82a1cbeeb6"
      },
      "execution_count": 5,
      "outputs": [
        {
          "output_type": "execute_result",
          "data": {
            "text/plain": [
              "Text(0.5, 1.0, 'Histograma de Tiempo')"
            ]
          },
          "metadata": {},
          "execution_count": 5
        },
        {
          "output_type": "display_data",
          "data": {
            "text/plain": [
              "<Figure size 640x480 with 1 Axes>"
            ],
            "image/png": "[encoded data removed]"
          },
          "metadata": {}
        }
      ]
    },
    {
      "cell_type": "markdown",
      "source": [
        "En el histograma la frecuencia de los datos va disminuyendo a medida que va avanzando hacia la derecha, así que podríamos decir que la distribución exponencial es la que describe mejor los datos."
      ],
      "metadata": {
        "id": "AuSaTLxzomh2"
      }
    },
    {
      "cell_type": "markdown",
      "source": [
        "### Cálculo de media aritmética\n",
        "\n",
        "Se suma todos los tiempos de vida útil de las baterías y se dividen entre la cantidad total registrada de datos."
      ],
      "metadata": {
        "id": "dYjQKPcUnCU8"
      }
    },
    {
      "cell_type": "code",
      "source": [
        "prom = bateries['tiempo_hasta_agotar'].mean()\n",
        "prom"
      ],
      "metadata": {
        "colab": {
          "base_uri": "https://localhost:8080/"
        },
        "id": "4_pLeqFW2Toz",
        "outputId": "40588530-784c-47d1-c3a8-02d868a7324f"
      },
      "execution_count": 6,
      "outputs": [
        {
          "output_type": "execute_result",
          "data": {
            "text/plain": [
              "0.32416864932174144"
            ]
          },
          "metadata": {},
          "execution_count": 6
        }
      ]
    },
    {
      "cell_type": "markdown",
      "source": [
        "### Cálculo de lambda (λ)"
      ],
      "metadata": {
        "id": "hr70iBlvtvLO"
      }
    },
    {
      "cell_type": "code",
      "source": [
        "lam = 1/prom\n",
        "lam"
      ],
      "metadata": {
        "colab": {
          "base_uri": "https://localhost:8080/"
        },
        "id": "IiVveemT2nDL",
        "outputId": "a917eadc-88d0-4e72-9e38-225e9be3f202"
      },
      "execution_count": 7,
      "outputs": [
        {
          "output_type": "execute_result",
          "data": {
            "text/plain": [
              "3.0848140376692856"
            ]
          },
          "metadata": {},
          "execution_count": 7
        }
      ]
    },
    {
      "cell_type": "code",
      "source": [
        "value = 1/lam\n",
        "value"
      ],
      "metadata": {
        "colab": {
          "base_uri": "https://localhost:8080/"
        },
        "id": "EQow9Wjp2txA",
        "outputId": "bf3597de-4c17-460f-e691-9666ca6af0aa"
      },
      "execution_count": 8,
      "outputs": [
        {
          "output_type": "execute_result",
          "data": {
            "text/plain": [
              "0.32416864932174144"
            ]
          },
          "metadata": {},
          "execution_count": 8
        }
      ]
    },
    {
      "cell_type": "markdown",
      "source": [
        "El valor esperado poblacional de la vida útil de las baterías es de 0.3241"
      ],
      "metadata": {
        "id": "e40EXLGUlLtw"
      }
    },
    {
      "cell_type": "markdown",
      "source": [
        "## Problema 2\n",
        "Un equipo de soporte técnico está investigando cuántos intentos se requieren en promedio para resolver un problema de software común. Registraron el número de intentos realizados antes de que se resolviera el problema. Dada la muestra de datos proporcionada, intuye de forma poblacional ¿cuál es la probabilidad de resolver el problema?"
      ],
      "metadata": {
        "id": "PR2yau7356oL"
      }
    },
    {
      "cell_type": "code",
      "source": [
        "softw = pd.read_excel('/content/software.xlsx')"
      ],
      "metadata": {
        "id": "5WkU-OGW6J9Q"
      },
      "execution_count": 26,
      "outputs": []
    },
    {
      "cell_type": "markdown",
      "source": [
        "Se calcula la probabilidad de resolver el problema usando una distribucion de Bernoulli."
      ],
      "metadata": {
        "id": "u2EwrxMBus_4"
      }
    },
    {
      "cell_type": "code",
      "source": [
        "exit_cases = len(softw)"
      ],
      "metadata": {
        "id": "mawJ93EhvZJP"
      },
      "execution_count": 27,
      "outputs": []
    },
    {
      "cell_type": "code",
      "source": [
        "probability = exit_cases / np.sum(softw['intentos_hasta_resolver'],axis=0)\n",
        "probability"
      ],
      "metadata": {
        "colab": {
          "base_uri": "https://localhost:8080/"
        },
        "id": "eSPsL5hCwNPf",
        "outputId": "584586e6-0287-4129-856f-7902caac0387"
      },
      "execution_count": 28,
      "outputs": [
        {
          "output_type": "execute_result",
          "data": {
            "text/plain": [
              "0.29779630732578916"
            ]
          },
          "metadata": {},
          "execution_count": 28
        }
      ]
    },
    {
      "cell_type": "markdown",
      "source": [
        "La probabilidad de resolver el problema es de 0.2977"
      ],
      "metadata": {
        "id": "an53Oe1yx1mb"
      }
    }
  ]
}